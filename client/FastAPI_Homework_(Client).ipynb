{
 "nbformat": 4,
 "nbformat_minor": 0,
 "metadata": {
  "colab": {
   "provenance": []
  },
  "kernelspec": {
   "name": "python3",
   "display_name": "Python 3 (ipykernel)",
   "language": "python"
  },
  "language_info": {
   "name": "python"
  }
 },
 "cells": [
  {
   "cell_type": "markdown",
   "source": [
    "На клиенте должны быть реализованы следующие функции:\n",
    "* Код вызова последовательного вызова обучения как минимум двух (N) различных моделей с таким набором данных и параметрами, чтобы обучение одной модели длилось не менее 60 секунд\n",
    "* Код вызова асинхронного вызова обучения как минимум двух различных моделей с демонстрацией, что работа выполняется в два (в N) раза быстрее\n",
    "* Асинхронный вызов нескольких предсказаний\n",
    "* Код демонстрации остальных функций сервера (загрузка, выгрузка, удаление)\n",
    "* Должны обрабатываться ошибки и исключения, возвращаемые сервером"
   ],
   "metadata": {
    "id": "jc9_SR5tx8ig"
   }
  },
  {
   "cell_type": "code",
   "source": "!pip install aiohttp",
   "metadata": {
    "colab": {
     "base_uri": "https://localhost:8080/"
    },
    "id": "IvdyQXrIzTuF",
    "outputId": "57275636-1046-4e3d-d7cd-d7ff8a28993b",
    "ExecuteTime": {
     "end_time": "2024-12-23T23:34:33.403936Z",
     "start_time": "2024-12-23T23:34:32.804897Z"
    }
   },
   "outputs": [
    {
     "name": "stdout",
     "output_type": "stream",
     "text": [
      "Requirement already satisfied: aiohttp in /Users/daniil/HSE/Development_tools/pro-5-6-fastapi-kedrovdaniil/.venv/lib/python3.13/site-packages (3.11.10)\r\n",
      "Requirement already satisfied: aiohappyeyeballs>=2.3.0 in /Users/daniil/HSE/Development_tools/pro-5-6-fastapi-kedrovdaniil/.venv/lib/python3.13/site-packages (from aiohttp) (2.4.4)\r\n",
      "Requirement already satisfied: aiosignal>=1.1.2 in /Users/daniil/HSE/Development_tools/pro-5-6-fastapi-kedrovdaniil/.venv/lib/python3.13/site-packages (from aiohttp) (1.3.2)\r\n",
      "Requirement already satisfied: attrs>=17.3.0 in /Users/daniil/HSE/Development_tools/pro-5-6-fastapi-kedrovdaniil/.venv/lib/python3.13/site-packages (from aiohttp) (24.3.0)\r\n",
      "Requirement already satisfied: frozenlist>=1.1.1 in /Users/daniil/HSE/Development_tools/pro-5-6-fastapi-kedrovdaniil/.venv/lib/python3.13/site-packages (from aiohttp) (1.5.0)\r\n",
      "Requirement already satisfied: multidict<7.0,>=4.5 in /Users/daniil/HSE/Development_tools/pro-5-6-fastapi-kedrovdaniil/.venv/lib/python3.13/site-packages (from aiohttp) (6.1.0)\r\n",
      "Requirement already satisfied: propcache>=0.2.0 in /Users/daniil/HSE/Development_tools/pro-5-6-fastapi-kedrovdaniil/.venv/lib/python3.13/site-packages (from aiohttp) (0.2.1)\r\n",
      "Requirement already satisfied: yarl<2.0,>=1.17.0 in /Users/daniil/HSE/Development_tools/pro-5-6-fastapi-kedrovdaniil/.venv/lib/python3.13/site-packages (from aiohttp) (1.18.3)\r\n",
      "Requirement already satisfied: idna>=2.0 in /Users/daniil/HSE/Development_tools/pro-5-6-fastapi-kedrovdaniil/.venv/lib/python3.13/site-packages (from yarl<2.0,>=1.17.0->aiohttp) (3.10)\r\n"
     ]
    }
   ],
   "execution_count": 1
  },
  {
   "cell_type": "code",
   "source": [
    "import nest_asyncio\n",
    "nest_asyncio.apply()"
   ],
   "metadata": {
    "id": "YPjym5FJzwpD",
    "ExecuteTime": {
     "end_time": "2024-12-23T23:34:36.024051Z",
     "start_time": "2024-12-23T23:34:36.020517Z"
    }
   },
   "outputs": [],
   "execution_count": 2
  },
  {
   "metadata": {
    "id": "eJZhsA-Vz0yI",
    "ExecuteTime": {
     "end_time": "2024-12-23T23:34:41.586749Z",
     "start_time": "2024-12-23T23:34:41.510737Z"
    }
   },
   "cell_type": "code",
   "source": [
    "import aiohttp\n",
    "import asyncio\n",
    "from aiohttp import ClientSession, web\n",
    "# import timeit\n",
    "import time\n",
    "import json\n",
    "\n",
    "class ClientException(BaseException):\n",
    "    def __init__(self, m):\n",
    "        self.message = m\n",
    "    # def __str__(self):\n",
    "    #     return self.message\n",
    "\n",
    "async def check_error_in_response(response):\n",
    "    if response.status == 422:\n",
    "        print(\"\\033[95mClientException:\", json.loads(await response.text()).get('detail'), '\\033[0m')\n",
    "        raise ClientException(json.loads(await response.text()).get('detail'))\n",
    "\n",
    "    return False\n",
    "\n",
    "async def fetch_data(url):\n",
    "    async with aiohttp.ClientSession() as session:\n",
    "        async with session.get(url) as response:\n",
    "            try:\n",
    "                await check_error_in_response(response)\n",
    "                r = await response.text()\n",
    "                return r\n",
    "            except ClientException as e:\n",
    "                raise e\n",
    "\n",
    "async def post_data(url, data):\n",
    "    async with aiohttp.ClientSession() as session:\n",
    "        async with session.post(url, json=data) as response:\n",
    "            try:\n",
    "                await check_error_in_response(response)\n",
    "                r = await response.text()\n",
    "                return json.loads(r)\n",
    "            except ClientException as e:\n",
    "                raise e\n",
    "\n",
    "async def delete_data(url, data):\n",
    "    async with aiohttp.ClientSession() as session:\n",
    "        async with session.delete(url, json=data) as response:\n",
    "            try:\n",
    "                await check_error_in_response(response)\n",
    "                r = await response.text()\n",
    "                return r\n",
    "            except ClientException as e:\n",
    "                raise e"
   ],
   "outputs": [],
   "execution_count": 3
  },
  {
   "cell_type": "code",
   "source": "BASE_URL = 'http://127.0.0.1:8000/api/v1/models'",
   "metadata": {
    "id": "QB10z9yL0hj6",
    "ExecuteTime": {
     "end_time": "2024-12-23T23:34:43.616128Z",
     "start_time": "2024-12-23T23:34:43.613848Z"
    }
   },
   "outputs": [],
   "execution_count": 4
  },
  {
   "cell_type": "code",
   "source": [
    "logisticRegressionFitReq_body = {\n",
    "  \"X\": [\n",
    "    [1, 2],\n",
    "    [3, 4]\n",
    "  ],\n",
    "  \"config\": {\n",
    "    \"hyperparameters\": {\n",
    "      \"penalty\": \"l2\",\n",
    "      \"dual\": False,\n",
    "      \"tol\": 0.0001,\n",
    "      \"C\": 1.0,\n",
    "      \"fit_intercept\": True,\n",
    "      \"intercept_scaling\": 1,\n",
    "      \"class_weight\": None,\n",
    "      \"random_state\": None,\n",
    "      \"solver\": \"lbfgs\",\n",
    "      \"max_iter\": 100,\n",
    "      \"multi_class\": \"auto\",\n",
    "      \"verbose\": 0,\n",
    "      \"warm_start\": False,\n",
    "      \"n_jobs\": None\n",
    "    },\n",
    "    \"id\": \"logistic_111\",\n",
    "    \"ml_model_type\": \"logistic\"\n",
    "  },\n",
    "  \"y\": [5, 6]\n",
    "}\n",
    "\n",
    "linearRegressionFitReq_body = {\n",
    "  \"X\": [\n",
    "    [1, 2],\n",
    "    [3, 4]\n",
    "  ],\n",
    "  \"config\": {\n",
    "    \"hyperparameters\": {\n",
    "      \"fit_intercept\": True\n",
    "    },\n",
    "    \"id\": \"linear_123\",\n",
    "    \"ml_model_type\": \"linear\"\n",
    "  },\n",
    "  \"y\": [5, 6]\n",
    "}"
   ],
   "metadata": {
    "id": "6RGNlwkZx8Mr",
    "ExecuteTime": {
     "end_time": "2024-12-23T23:34:44.652923Z",
     "start_time": "2024-12-23T23:34:44.649543Z"
    }
   },
   "outputs": [],
   "execution_count": 5
  },
  {
   "cell_type": "markdown",
   "source": [
    "Код вызова последовательного вызова обучения как минимум двух (N) различных моделей с таким набором данных и параметрами, чтобы обучение одной модели длилось не менее 60 секунд"
   ],
   "metadata": {
    "id": "9t2qUssUpO57"
   }
  },
  {
   "cell_type": "code",
   "source": [
    "# %%timeit\n",
    "async def test_fit_model_sync():\n",
    "    start_time = time.time()\n",
    "\n",
    "    url = f\"{BASE_URL}/fit\"\n",
    "\n",
    "    try:\n",
    "        linear = await post_data(url, linearRegressionFitReq_body)\n",
    "        print('linear:', linear.get('message'))\n",
    "\n",
    "        logistic = await post_data(url, logisticRegressionFitReq_body)\n",
    "        print('logistic:', logistic.get('message'))\n",
    "    except Exception as error:\n",
    "        raise error\n",
    "\n",
    "    elapsed_time = time.time() - start_time\n",
    "    print(f\"execution time: {elapsed_time:.2f} seconds\")\n",
    "\n",
    "asyncio.run(test_fit_model_sync())"
   ],
   "metadata": {
    "id": "e3KeIvqyx8KO",
    "ExecuteTime": {
     "end_time": "2024-12-23T23:42:08.776173Z",
     "start_time": "2024-12-23T23:42:04.749622Z"
    }
   },
   "outputs": [
    {
     "name": "stdout",
     "output_type": "stream",
     "text": [
      "linear: Model 'linear_123' trained and saved.\n",
      "logistic: Model 'logistic_111' trained and saved.\n",
      "execution time: 4.02 seconds\n"
     ]
    }
   ],
   "execution_count": 9
  },
  {
   "metadata": {},
   "cell_type": "markdown",
   "source": "Код вызова асинхронного вызова обучения как минимум двух различных моделей с демонстрацией, что работа выполняется в два (в N) раза быстрее"
  },
  {
   "metadata": {
    "ExecuteTime": {
     "end_time": "2024-12-23T23:45:52.870175Z",
     "start_time": "2024-12-23T23:45:52.854245Z"
    }
   },
   "cell_type": "code",
   "source": [
    "async def test_remove_all():\n",
    "    try:\n",
    "        response = await delete_data(f\"{BASE_URL}/remove_all\", None)\n",
    "        print('response:', response)\n",
    "    except ClientException as error:\n",
    "        error = error.args[0]\n",
    "        print('\\033[94m| Handled Error:')\n",
    "        print('------------------------------')\n",
    "        print('| msg:', error, end='\\n==============================\\n\\033[0m\\n')\n",
    "\n",
    "asyncio.run(test_remove_all())"
   ],
   "outputs": [
    {
     "name": "stdout",
     "output_type": "stream",
     "text": [
      "response: {\"message\":\"All models removed.\"}\n"
     ]
    }
   ],
   "execution_count": 18
  },
  {
   "metadata": {
    "ExecuteTime": {
     "end_time": "2024-12-23T23:46:05.113992Z",
     "start_time": "2024-12-23T23:46:03.066704Z"
    }
   },
   "cell_type": "code",
   "source": [
    "# %%timeit\n",
    "async def test_fit_model_async():\n",
    "    start_time = time.time()\n",
    "\n",
    "    url = f\"{BASE_URL}/fit\"\n",
    "\n",
    "    try:\n",
    "        linear, logistic = await asyncio.gather(\n",
    "            post_data(url, linearRegressionFitReq_body),\n",
    "            post_data(url, logisticRegressionFitReq_body))\n",
    "\n",
    "        print('linear:', linear.get('message'))\n",
    "        print('logistic:', logistic.get('message'))\n",
    "    except ClientException as error:\n",
    "        error = error.args[0]\n",
    "        print('\\033[94m| Handled Error:')\n",
    "        print('------------------------------')\n",
    "        print('| msg:', error, end='\\n==============================\\n\\033[0m\\n')\n",
    "\n",
    "    elapsed_time = time.time() - start_time\n",
    "    print(f\"execution time: {elapsed_time:.2f} seconds\")\n",
    "\n",
    "asyncio.run(test_fit_model_async())"
   ],
   "outputs": [
    {
     "name": "stdout",
     "output_type": "stream",
     "text": [
      "linear: Model 'linear_123' trained and saved.\n",
      "logistic: Model 'logistic_111' trained and saved.\n",
      "execution time: 2.02 seconds\n"
     ]
    }
   ],
   "execution_count": 19
  },
  {
   "cell_type": "markdown",
   "source": "Асинхронный вызов нескольких предсказаний",
   "metadata": {
    "id": "XDSqgcSIqahc"
   }
  },
  {
   "metadata": {
    "ExecuteTime": {
     "end_time": "2024-12-24T00:24:29.822443Z",
     "start_time": "2024-12-24T00:24:29.796839Z"
    }
   },
   "cell_type": "code",
   "source": [
    "async def test_load():\n",
    "    try:\n",
    "        linear, logistic = await asyncio.gather(\n",
    "            post_data(f\"{BASE_URL}/load\", {\"id\": \"linear_123\"}),\n",
    "            post_data(f\"{BASE_URL}/load\", {\"id\": \"logistic_111\"}),\n",
    "        )\n",
    "\n",
    "        print('linear:', linear.get('message'))\n",
    "        print('logistic:', logistic.get('message'))\n",
    "    except ClientException as error:\n",
    "        error = error.args[0]\n",
    "        print('\\033[94m| Handled Error:')\n",
    "        print('------------------------------')\n",
    "        print('| msg:', error, end='\\n==============================\\n\\033[0m\\n')\n",
    "\n",
    "asyncio.run(test_load())\n"
   ],
   "outputs": [
    {
     "name": "stdout",
     "output_type": "stream",
     "text": [
      "linear: Model 'linear_123' loaded for inference.\n",
      "logistic: Model 'logistic_111' loaded for inference.\n"
     ]
    }
   ],
   "execution_count": 27
  },
  {
   "metadata": {
    "ExecuteTime": {
     "end_time": "2024-12-23T23:46:19.062393Z",
     "start_time": "2024-12-23T23:46:19.052109Z"
    }
   },
   "cell_type": "code",
   "source": [
    "async def test_predict_async():\n",
    "    start_time = time.time()\n",
    "    url = f\"{BASE_URL}/predict\"\n",
    "\n",
    "    try:\n",
    "        linear, logistic = await asyncio.gather(\n",
    "            post_data(url, {\n",
    "                \"id\": \"linear_123\",\n",
    "                \"X\": [\n",
    "                    [7, 8]\n",
    "                ]\n",
    "            }),\n",
    "            post_data(url, {\n",
    "                \"id\": \"logistic_111\",\n",
    "                \"X\": [\n",
    "                    [7, 8]\n",
    "                ]\n",
    "            }))\n",
    "\n",
    "        print('linear:', linear.get('predictions'))\n",
    "        print('logistic:', logistic.get('predictions'))\n",
    "    except ClientException as error:\n",
    "        error_args = error.args\n",
    "\n",
    "        for arg in range(len(error_args)):\n",
    "            error = error_args[arg]\n",
    "            print('\\033[94m| Handled Error:')\n",
    "            print('------------------------------')\n",
    "            print('| msg:', error, end='\\n==============================\\n\\033[0m\\n')\n",
    "\n",
    "    elapsed_time = time.time() - start_time\n",
    "    print(f\"execution time: {elapsed_time:.2f} seconds\")\n",
    "\n",
    "asyncio.run(test_predict_async())"
   ],
   "outputs": [
    {
     "name": "stdout",
     "output_type": "stream",
     "text": [
      "\u001B[95mClientException: No models loaded. \u001B[0m\n",
      "\u001B[95mClientException: No models loaded. \u001B[0m\n",
      "\u001B[94m| Handled Error:\n",
      "------------------------------\n",
      "| msg: No models loaded.\n",
      "==============================\n",
      "\u001B[0m\n",
      "execution time: 0.01 seconds\n"
     ]
    }
   ],
   "execution_count": 21
  },
  {
   "metadata": {},
   "cell_type": "markdown",
   "source": "Код демонстрации остальных функций сервера (загрузка, выгрузка, удаление)"
  },
  {
   "metadata": {
    "ExecuteTime": {
     "end_time": "2024-12-23T16:41:44.149575Z",
     "start_time": "2024-12-23T16:41:40.059837Z"
    }
   },
   "cell_type": "code",
   "source": [
    "async def test_load_async():\n",
    "    print('===>> test_load_async')\n",
    "    try:\n",
    "        await asyncio.gather(\n",
    "            post_data(f\"{BASE_URL}/load\", {\"id\": \"linear_123\"}),\n",
    "            post_data(f\"{BASE_URL}/load\", {\"id\": \"logistic_111\"}),\n",
    "        )\n",
    "        print('==>> УСПЕШНО')\n",
    "    except ClientException as error:\n",
    "        error_args = error.args\n",
    "        print('\\033[94m| Handled Error:')\n",
    "        print('------------------------------')\n",
    "        print('| msg:', error_args[0], end='\\n==============================\\n\\033[0m\\n')\n",
    "        print('==>> ПРОВАЛ')\n",
    "\n",
    "async def test_get_status():\n",
    "    print('===>> test_get_status')\n",
    "    try:\n",
    "        response = await fetch_data(f\"{BASE_URL}/get_status\")\n",
    "        print('response:', response)\n",
    "        print('==>> УСПЕШНО')\n",
    "    except ClientException as error:\n",
    "        print('==>> ПРОВАЛ')\n",
    "\n",
    "async def test_list_models():\n",
    "    print('===>> test_list_models')\n",
    "    try:\n",
    "        response = await fetch_data(f\"{BASE_URL}/list_models\")\n",
    "        print('response:', response)\n",
    "        print('==>> УСПЕШНО')\n",
    "    except ClientException as error:\n",
    "        print('==>> ПРОВАЛ')\n",
    "\n",
    "async def test_unload_async():\n",
    "    print('===>> test_unload_async')\n",
    "    try:\n",
    "        await asyncio.gather(\n",
    "            post_data(f\"{BASE_URL}/unload\", {\"id\": \"linear_123\"}),\n",
    "            post_data(f\"{BASE_URL}/unload\", {\"id\": \"logistic_111\"}),\n",
    "        )\n",
    "        print('==>> УСПЕШНО')\n",
    "    except ClientException as error:\n",
    "        print('te st_unload_async error:', error, type(error))\n",
    "        error_args = error.args\n",
    "        print('\\033[94m| Handled Error:')\n",
    "        print('------------------------------')\n",
    "        print('| msg:', error_args[0], end='\\n==============================\\n\\033[0m\\n')\n",
    "        print('==>> ПРОВАЛ')\n",
    "\n",
    "async def test_delete_model(model_id='logistic_111'):\n",
    "    print('===>> test_delete_model')\n",
    "    try:\n",
    "        response = await delete_data(f\"{BASE_URL}/remove/{model_id}\", None)\n",
    "        print('response:', response)\n",
    "        print('==>> УСПЕШНО')\n",
    "    except ClientException as error:\n",
    "        print('test_delete_model error:', error, type(error))\n",
    "        print('==>> ПРОВАЛ')\n",
    "\n",
    "\n",
    "# Удаляем все модели из хранилища и из инференса\n",
    "asyncio.run(test_remove_all())\n",
    "\n",
    "# Обучаем 2 разные модели асинхронно - они сохраняются в хранилище\n",
    "asyncio.run(test_fit_model_async())\n",
    "\n",
    "# Загружаем обе модели на инференс\n",
    "asyncio.run(test_load_async())\n",
    "\n",
    "# Проверяем статус - обе модели должны отображаться в списке моделей\n",
    "asyncio.run(test_get_status())\n",
    "\n",
    "# Выгрузим модели из инференса асинхронно\n",
    "asyncio.run(test_unload_async())\n",
    "\n",
    "# Проверим статус, сервер должен ответить, что ничего не загружено\n",
    "asyncio.run(test_get_status())\n",
    "\n",
    "# Посмотрим, какие модели доступны в хранилище для загрузки на инференс\n",
    "asyncio.run(test_list_models())\n",
    "\n",
    "# Загрузим обе модели обратно из хранилища на инференс\n",
    "asyncio.run(test_load_async())\n",
    "\n",
    "# Удалим одну модель c id = logistic_111.\n",
    "# Она будет удалена из инференса и из хранилища\n",
    "asyncio.run(test_delete_model(model_id='logistic_111'))\n",
    "\n",
    "# Проверим, что модели нет в списке загруженных на инференс\n",
    "asyncio.run(test_get_status())\n",
    "\n",
    "# Проверим, что модели нет в хранилище\n",
    "asyncio.run(test_list_models())\n",
    "\n",
    "# Удалим все модели из инференса и из хранилища\n",
    "asyncio.run(test_remove_all())"
   ],
   "outputs": [
    {
     "name": "stdout",
     "output_type": "stream",
     "text": [
      "response: {\"message\":\"All models removed.\"}\n",
      "linear: Model 'linear_123' trained and saved.\n",
      "logistic: Model 'logistic_111' trained and saved.\n",
      "execution time: 4.03 seconds\n",
      "===>> test_load_async\n",
      "\u001B[95mClientException: Model already loaded. \u001B[0m\n",
      "\u001B[94m| Handled Error:\n",
      "------------------------------\n",
      "| msg: Model already loaded.\n",
      "==============================\n",
      "\u001B[0m\n",
      "==>> ПРОВАЛ\n",
      "===>> test_get_status\n",
      "response: {\"status\":\"Models: ['linear_123']\"}\n",
      "==>> УСПЕШНО\n",
      "===>> test_unload_async\n",
      "\u001B[95mClientException: Model with id 'logistic_111' was not loaded. \u001B[0m\n",
      "te st_unload_async error: Model with id 'logistic_111' was not loaded. <class '__main__.ClientException'>\n",
      "\u001B[94m| Handled Error:\n",
      "------------------------------\n",
      "| msg: Model with id 'logistic_111' was not loaded.\n",
      "==============================\n",
      "\u001B[0m\n",
      "==>> ПРОВАЛ\n",
      "===>> test_get_status\n",
      "response: {\"status\":\"No models loaded.\"}\n",
      "==>> УСПЕШНО\n",
      "===>> test_list_models\n",
      "response: {\"models\":[\"logistic_111\",\"linear_123\"]}\n",
      "==>> УСПЕШНО\n",
      "===>> test_load_async\n",
      "==>> УСПЕШНО\n",
      "===>> test_delete_model\n",
      "response: {\"message\":\"Model 'logistic_111' removed\"}\n",
      "==>> УСПЕШНО\n",
      "===>> test_get_status\n",
      "response: {\"status\":\"Models: ['linear_123']\"}\n",
      "==>> УСПЕШНО\n",
      "===>> test_list_models\n",
      "response: {\"models\":[\"linear_123\"]}\n",
      "==>> УСПЕШНО\n",
      "response: {\"message\":\"All models removed.\"}\n"
     ]
    }
   ],
   "execution_count": 31
  },
  {
   "metadata": {
    "ExecuteTime": {
     "end_time": "2024-12-24T07:35:09.913023Z",
     "start_time": "2024-12-24T07:35:05.821352Z"
    }
   },
   "cell_type": "code",
   "source": [
    "async def test_load_sync():\n",
    "    print('===>> test_load_sync')\n",
    "    try:\n",
    "        await post_data(f\"{BASE_URL}/load\", {\"id\": \"linear_123\"}),\n",
    "        print('==>> УСПЕШНО')\n",
    "    except ClientException as error:\n",
    "        error_args = error.args\n",
    "        print('\\033[94m| Handled Error:')\n",
    "        print('------------------------------')\n",
    "        print('| msg:', error_args[0], end='\\n==============================\\n\\033[0m\\n')\n",
    "        print('==>> ПРОВАЛ')\n",
    "\n",
    "async def test_get_status():\n",
    "    print('===>> test_get_status')\n",
    "    try:\n",
    "        response = await fetch_data(f\"{BASE_URL}/get_status\")\n",
    "        print('response:', response)\n",
    "        print('==>> УСПЕШНО')\n",
    "    except ClientException as error:\n",
    "        print('==>> ПРОВАЛ')\n",
    "\n",
    "async def test_list_models():\n",
    "    print('===>> test_list_models')\n",
    "    try:\n",
    "        response = await fetch_data(f\"{BASE_URL}/list_models\")\n",
    "        print('response:', response)\n",
    "        print('==>> УСПЕШНО')\n",
    "    except ClientException as error:\n",
    "        print('==>> ПРОВАЛ')\n",
    "\n",
    "async def test_unload_sync():\n",
    "    print('===>> test_unload_sync')\n",
    "    try:\n",
    "        await post_data(f\"{BASE_URL}/unload\", {\"id\": \"linear_123\"}),\n",
    "        print('==>> УСПЕШНО')\n",
    "    except ClientException as error:\n",
    "        print('te st_unload_async error:', error, type(error))\n",
    "        error_args = error.args\n",
    "        print('\\033[94m| Handled Error:')\n",
    "        print('------------------------------')\n",
    "        print('| msg:', error_args[0], end='\\n==============================\\n\\033[0m\\n')\n",
    "        print('==>> ПРОВАЛ')\n",
    "\n",
    "async def test_delete_model(model_id='logistic_111'):\n",
    "    print('===>> test_delete_model')\n",
    "    try:\n",
    "        response = await delete_data(f\"{BASE_URL}/remove/{model_id}\", None)\n",
    "        print('response:', response)\n",
    "        print('==>> УСПЕШНО')\n",
    "    except ClientException as error:\n",
    "        print('test_delete_model error:', error, type(error))\n",
    "        print('==>> ПРОВАЛ')\n",
    "\n",
    "\n",
    "# Удаляем все модели из хранилища и из инференса\n",
    "asyncio.run(test_remove_all())\n",
    "\n",
    "# Обучаем 2 разные модели асинхронно - они сохраняются в хранилище\n",
    "asyncio.run(test_fit_model_async())\n",
    "\n",
    "# Загружаем обе модели на инференс\n",
    "asyncio.run(test_load_sync())\n",
    "\n",
    "# Проверяем статус - обе модели должны отображаться в списке моделей\n",
    "asyncio.run(test_get_status())\n",
    "\n",
    "# Выгрузим модели из инференса асинхронно\n",
    "asyncio.run(test_unload_sync())\n",
    "\n",
    "# Проверим статус, сервер должен ответить, что ничего не загружено\n",
    "asyncio.run(test_get_status())\n",
    "\n",
    "# Посмотрим, какие модели доступны в хранилище для загрузки на инференс\n",
    "asyncio.run(test_list_models())\n",
    "\n",
    "# Загрузим обе модели обратно из хранилища на инференс\n",
    "asyncio.run(test_load_sync())\n",
    "\n",
    "# Удалим одну модель c id = logistic_111.\n",
    "# Она будет удалена из инференса и из хранилища\n",
    "asyncio.run(test_delete_model(model_id='logistic_111'))\n",
    "\n",
    "# Проверим, что модели нет в списке загруженных на инференс\n",
    "asyncio.run(test_get_status())\n",
    "\n",
    "# Проверим, что модели нет в хранилище\n",
    "asyncio.run(test_list_models())\n",
    "\n",
    "# Удалим все модели из инференса и из хранилища\n",
    "asyncio.run(test_remove_all())"
   ],
   "outputs": [
    {
     "name": "stdout",
     "output_type": "stream",
     "text": [
      "response: {\"message\":\"All models removed.\"}\n",
      "linear: Model 'linear_123' trained and saved.\n",
      "logistic: Model 'logistic_111' trained and saved.\n",
      "execution time: 4.02 seconds\n",
      "===>> test_load_sync\n",
      "==>> УСПЕШНО\n",
      "===>> test_get_status\n",
      "response: {\"status\":\"Models: ['linear_123']\"}\n",
      "==>> УСПЕШНО\n",
      "===>> test_unload_sync\n",
      "==>> УСПЕШНО\n",
      "===>> test_get_status\n",
      "response: {\"status\":\"No models loaded.\"}\n",
      "==>> УСПЕШНО\n",
      "===>> test_list_models\n",
      "response: {\"models\":[\"logistic_111\",\"linear_123\"]}\n",
      "==>> УСПЕШНО\n",
      "===>> test_load_sync\n",
      "==>> УСПЕШНО\n",
      "===>> test_delete_model\n",
      "response: {\"message\":\"Model 'logistic_111' removed\"}\n",
      "==>> УСПЕШНО\n",
      "===>> test_get_status\n",
      "response: {\"status\":\"Models: ['linear_123']\"}\n",
      "==>> УСПЕШНО\n",
      "===>> test_list_models\n",
      "response: {\"models\":[\"linear_123\"]}\n",
      "==>> УСПЕШНО\n",
      "response: {\"message\":\"All models removed.\"}\n"
     ]
    }
   ],
   "execution_count": 29
  },
  {
   "metadata": {},
   "cell_type": "markdown",
   "source": [
    "**Пояснение к работе**\n",
    "Обработка ошибок происходит на двух уровнях на клиенте - на уровне получения данных, где создаётся исключение ClientException (в output подсвечен розовым цветом) - общий обработчик для всех ошибок (для того, чтобы клиентское приложение не падало при неопознанной ошибке при ответе от серевера, который не ожидался клиентом. Далее, на уровне логики исключения отлавливают уже обработчики, которые обрабатывают их по своей логике (в output подсвечены синим цветом). Если бы это был бы полноценный клиент, например, веб-приложению, то мы бы отобразили пользователю ошибку в виде всплывающего окна или уведомления. Поскольку API ответы не стандартизированы, то записать код только в один обработчик невозможно, поскольку каждый ответ с кодом 422 немного отличается по структуре.\n",
    "В итоге, если полученная ошибка не будет обработана в логике, она всегда будет обработана на уровне работы с данными при помощи ClientException."
   ]
  }
 ]
}
